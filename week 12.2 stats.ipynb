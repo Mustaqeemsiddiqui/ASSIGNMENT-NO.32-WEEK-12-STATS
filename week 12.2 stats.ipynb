{
 "cells": [
  {
   "cell_type": "markdown",
   "id": "3e4471e4-c2ed-4320-93d1-5178077cac66",
   "metadata": {},
   "source": [
    "**Q1. Calculate the 95% confidence interval for a sample of data with a mean of 50 and a standard deviation\n",
    "of 5 using Python. Interpret the results.**"
   ]
  },
  {
   "cell_type": "code",
   "execution_count": 1,
   "id": "ddd88896-a174-4e4d-b907-6235fcf93204",
   "metadata": {},
   "outputs": [
    {
     "data": {
      "text/plain": [
       "(48.210805856282846, 51.789194143717154)"
      ]
     },
     "execution_count": 1,
     "metadata": {},
     "output_type": "execute_result"
    }
   ],
   "source": [
    "import math\n",
    "import scipy.stats as st\n",
    "\n",
    "# Given values\n",
    "mean = 50\n",
    "std_dev = 5\n",
    "n = 30  # Assuming a sample size of 30\n",
    "confidence_level = 0.95\n",
    "\n",
    "# Calculate the standard error\n",
    "standard_error = std_dev / math.sqrt(n)\n",
    "\n",
    "# Find the z-score for the 95% confidence level\n",
    "z_score = st.norm.ppf((1 + confidence_level) / 2)\n",
    "\n",
    "# Calculate the margin of error\n",
    "margin_of_error = z_score * standard_error\n",
    "\n",
    "# Calculate the confidence interval\n",
    "confidence_interval = (mean - margin_of_error, mean + margin_of_error)\n",
    "\n",
    "confidence_interval\n"
   ]
  },
  {
   "cell_type": "markdown",
   "id": "58b3e88e-b21e-43e3-941a-4ccc0809784f",
   "metadata": {},
   "source": [
    "**Q2. Conduct a chi-square goodness of fit test to determine if the distribution of colors of M&Ms in a bag\n",
    "matches the expected distribution of 20% blue, 20% orange, 20% green, 10% yellow, 10% red, and 20%\n",
    "brown. Use Python to perform the test with a significance level of 0.05.**"
   ]
  },
  {
   "cell_type": "markdown",
   "id": "cdfbdee6-4dea-4650-ae20-10c89aa5bab7",
   "metadata": {},
   "source": [
    "**ANSWER**:---\n",
    "\n",
    "To conduct a chi-square goodness of fit test, we need to compare the observed frequencies of the M&M colors with the expected frequencies based on the given distribution. The steps are as follows:\n",
    "\n",
    "1. Define the observed frequencies for each color.\n",
    "2. Define the expected frequencies for each color based on the expected distribution.\n",
    "3. Use the chi-square goodness of fit test to compare the observed and expected frequencies.\n",
    "\n",
    "The null hypothesis (\\(H_0\\)) for the chi-square goodness of fit test is that the observed distribution matches the expected distribution. The alternative hypothesis (\\(H_a\\)) is that the observed distribution does not match the expected distribution.\n",
    "\n",
    "The chi-square statistic is calculated using the formula:\n",
    "\n",
    "\\[ \\chi^2 = \\sum \\frac{(O_i - E_i)^2}{E_i} \\]\n",
    "\n",
    "Where:\n",
    "- \\(O_i\\) is the observed frequency for category \\(i\\).\n",
    "- \\(E_i\\) is the expected frequency for category \\(i\\).\n",
    "\n",
    "Given the expected distribution:\n",
    "- Blue: 20%\n",
    "- Orange: 20%\n",
    "- Green: 20%\n",
    "- Yellow: 10%\n",
    "- Red: 10%\n",
    "- Brown: 20%\n",
    "\n",
    "Let's assume we have the following observed frequencies for a sample bag of M&Ms:\n",
    "- Blue: 18\n",
    "- Orange: 22\n",
    "- Green: 20\n",
    "- Yellow: 10\n",
    "- Red: 8\n",
    "- Brown: 22\n"
   ]
  },
  {
   "cell_type": "code",
   "execution_count": 2,
   "id": "5e6ab708-0290-43e0-90f5-7154c9b76fd0",
   "metadata": {},
   "outputs": [
    {
     "data": {
      "text/plain": [
       "(1.0, 0.9625657732472964)"
      ]
     },
     "execution_count": 2,
     "metadata": {},
     "output_type": "execute_result"
    }
   ],
   "source": [
    "import scipy.stats as stats\n",
    "\n",
    "# Observed frequencies\n",
    "observed = [18, 22, 20, 10, 8, 22]\n",
    "\n",
    "# Total number of observed M&Ms\n",
    "total_mms = sum(observed)\n",
    "\n",
    "# Expected frequencies based on the given distribution\n",
    "expected_distribution = [0.2, 0.2, 0.2, 0.1, 0.1, 0.2]\n",
    "expected = [total_mms * p for p in expected_distribution]\n",
    "\n",
    "# Perform the chi-square goodness of fit test\n",
    "chi_square_stat, p_value = stats.chisquare(observed, f_exp=expected)\n",
    "\n",
    "chi_square_stat, p_value\n"
   ]
  },
  {
   "cell_type": "markdown",
   "id": "37851993-590e-4332-84b6-722796f37ce7",
   "metadata": {},
   "source": [
    "### Interpretation\n",
    "\n",
    "At a significance level of \\(0.05\\):\n",
    "\n",
    "- **Null hypothesis (\\(H_0\\))**: The distribution of colors of M&Ms in the bag matches the expected distribution.\n",
    "- **Alternative hypothesis (\\(H_a\\))**: The distribution of colors of M&Ms in the bag does not match the expected distribution.\n",
    "\n",
    "Since the p-value (\\(0.963\\)) is much greater than the significance level (\\(0.05\\)), we fail to reject the null hypothesis. This means that there is not enough evidence to conclude that the observed distribution of M&M colors differs from the expected distribution. Thus, the observed distribution of colors in the bag of M&Ms matches the expected distribution."
   ]
  },
  {
   "cell_type": "markdown",
   "id": "c982996a-eb20-4a1c-b397-946a0c4d624e",
   "metadata": {},
   "source": [
    "**Q3. Use Python to calculate the chi-square statistic and p-value for a contingency table with the following\n",
    "data:**\n",
    "\n",
    "           GROUP  GROUP\n",
    "             A      B\n",
    "\n",
    "Outcome 1    20    15\n",
    "\n",
    "Outcome 2    10    25\n",
    "\n",
    "Outcome 3    15    20\n",
    "\n",
    "**Interpret the results of the test.**"
   ]
  },
  {
   "cell_type": "code",
   "execution_count": 3,
   "id": "85af415f-5d22-4012-9711-426ce89a07eb",
   "metadata": {},
   "outputs": [
    {
     "data": {
      "text/plain": [
       "(5.833333333333334,\n",
       " 0.05411376622282158,\n",
       " 2,\n",
       " array([[15., 20.],\n",
       "        [15., 20.],\n",
       "        [15., 20.]]))"
      ]
     },
     "execution_count": 3,
     "metadata": {},
     "output_type": "execute_result"
    }
   ],
   "source": [
    "import scipy.stats as stats\n",
    "\n",
    "# Observed frequencies\n",
    "observed = [\n",
    "    [20, 15],\n",
    "    [10, 25],\n",
    "    [15, 20]\n",
    "]\n",
    "\n",
    "# Perform the chi-square test of independence\n",
    "chi2_stat, p_val, dof, expected = stats.chi2_contingency(observed)\n",
    "\n",
    "chi2_stat, p_val, dof, expected\n"
   ]
  },
  {
   "cell_type": "markdown",
   "id": "80796f60-006d-447b-86a4-24bfd61a3577",
   "metadata": {},
   "source": [
    "\n",
    "### Interpretation\n",
    "\n",
    "At a significance level of \\(0.05\\):\n",
    "\n",
    "- **Null hypothesis (\\(H_0\\))**: There is no significant association between the group and the outcome.\n",
    "- **Alternative hypothesis (\\(H_a\\))**: There is a significant association between the group and the outcome.\n",
    "\n",
    "Since the p-value (\\(0.054\\)) is slightly above the significance level (\\(0.05\\)), we fail to reject the null hypothesis at the \\(0.05\\) significance level. This means there is not enough evidence to conclude that there is a significant association between the group and the outcome. However, the p-value is very close to \\(0.05\\), suggesting that the result is marginal and might be considered significant in some contexts, especially if a slightly higher significance level (e.g., \\(0.10\\)) is acceptable."
   ]
  },
  {
   "cell_type": "markdown",
   "id": "27ca90d3-7a11-4b23-abe7-f1d79ac5a0b6",
   "metadata": {},
   "source": [
    "**Q4. A study of the prevalence of smoking in a population of 500 individuals found that 60 individuals\n",
    "smoked. Use Python to calculate the 95% confidence interval for the true proportion of individuals in the\n",
    "population who smoke.**"
   ]
  },
  {
   "cell_type": "markdown",
   "id": "3cee3077-51de-42c2-9718-dff88b3fa092",
   "metadata": {},
   "source": [
    "**ANSWER**:---\n",
    "\n",
    "To calculate the 95% confidence interval for the true proportion of individuals who smoke in a population, we can use the formula for the confidence interval of a proportion:\n",
    "\n",
    "\\[ \\text{CI} = \\hat{p} \\pm z \\sqrt{\\frac{\\hat{p}(1 - \\hat{p})}{n}} \\]\n",
    "\n",
    "Where:\n",
    "- \\(\\hat{p}\\) is the sample proportion.\n",
    "- \\(z\\) is the z-score corresponding to the desired confidence level.\n",
    "- \\(n\\) is the sample size.\n",
    "\n",
    "Given:\n",
    "- Number of individuals (\\(n\\)) = 500\n",
    "- Number of smokers = 60\n",
    "\n",
    "The sample proportion (\\(\\hat{p}\\)) is calculated as:\n",
    "\n",
    "\\[ \\hat{p} = \\frac{\\text{number of smokers}}{\\text{total number of individuals}} = \\frac{60}{500} = 0.12 \\]\n",
    "\n",
    "For a 95% confidence level, the z-score is approximately 1.96.\n",
    "\n",
    "\n",
    "\n",
    "1. Calculate the sample proportion:\n",
    "   \\[ \\hat{p} = \\frac{60}{500} = 0.12 \\]\n",
    "\n",
    "2. Find the z-score for a 95% confidence level (approximately 1.96).\n",
    "\n",
    "3. Calculate the standard error:\n",
    "   \\[ \\text{SE} = \\sqrt{\\frac{\\hat{p}(1 - \\hat{p})}{n}} = \\sqrt{\\frac{0.12 \\times 0.88}{500}} \\approx 0.0145 \\]\n",
    "\n",
    "4. Calculate the margin of error:\n",
    "   \\[ \\text{ME} = z \\times \\text{SE} = 1.96 \\times 0.0145 \\approx 0.0284 \\]\n",
    "\n",
    "5. Calculate the confidence interval:\n",
    "   \\[ \\text{CI} = \\hat{p} \\pm \\text{ME} = 0.12 \\pm 0.0284 \\]\n",
    "\n",
    "So, the 95% confidence interval is approximately (0.0916, 0.1484). This means we are 95% confident that the true proportion of smokers in the population lies between 9.16% and 14.84%."
   ]
  },
  {
   "cell_type": "code",
   "execution_count": 4,
   "id": "8b5fdd6a-d184-468a-ac9a-7f31af21721d",
   "metadata": {},
   "outputs": [
    {
     "data": {
      "text/plain": [
       "(0.09151638887130707, 0.1484836111286929)"
      ]
     },
     "execution_count": 4,
     "metadata": {},
     "output_type": "execute_result"
    }
   ],
   "source": [
    "import math\n",
    "import scipy.stats as st\n",
    "\n",
    "# Given values\n",
    "n = 500\n",
    "number_of_smokers = 60\n",
    "\n",
    "# Sample proportion\n",
    "p_hat = number_of_smokers / n\n",
    "\n",
    "# Confidence level\n",
    "confidence_level = 0.95\n",
    "z_score = st.norm.ppf((1 + confidence_level) / 2)\n",
    "\n",
    "# Standard error\n",
    "standard_error = math.sqrt(p_hat * (1 - p_hat) / n)\n",
    "\n",
    "# Margin of error\n",
    "margin_of_error = z_score * standard_error\n",
    "\n",
    "# Confidence interval\n",
    "confidence_interval = (p_hat - margin_of_error, p_hat + margin_of_error)\n",
    "\n",
    "confidence_interval\n"
   ]
  },
  {
   "cell_type": "markdown",
   "id": "0972248b-9df0-4e21-98e4-f9efa8ea26f2",
   "metadata": {},
   "source": [
    "**Q5. Calculate the 90% confidence interval for a sample of data with a mean of 75 and a standard deviation\n",
    "of 12 using Python. Interpret the results.**"
   ]
  },
  {
   "cell_type": "code",
   "execution_count": 5,
   "id": "15f3812f-45aa-412e-b9d4-ffd58f62a395",
   "metadata": {},
   "outputs": [
    {
     "data": {
      "text/plain": [
       "(71.39630625889797, 78.60369374110203)"
      ]
     },
     "execution_count": 5,
     "metadata": {},
     "output_type": "execute_result"
    }
   ],
   "source": [
    "import math\n",
    "import scipy.stats as st\n",
    "\n",
    "# Given values\n",
    "mean = 75\n",
    "std_dev = 12\n",
    "n = 30  # Assuming a sample size of 30\n",
    "confidence_level = 0.90\n",
    "\n",
    "# Calculate the standard error\n",
    "standard_error = std_dev / math.sqrt(n)\n",
    "\n",
    "# Find the z-score for the 90% confidence level\n",
    "z_score = st.norm.ppf((1 + confidence_level) / 2)\n",
    "\n",
    "# Calculate the margin of error\n",
    "margin_of_error = z_score * standard_error\n",
    "\n",
    "# Calculate the confidence interval\n",
    "confidence_interval = (mean - margin_of_error, mean + margin_of_error)\n",
    "\n",
    "confidence_interval\n"
   ]
  },
  {
   "cell_type": "markdown",
   "id": "f0504567-b54d-4f57-8ed7-790b68613391",
   "metadata": {},
   "source": [
    "To calculate the 90% confidence interval for a sample with a given mean and standard deviation, we can use the following formula for the confidence interval of the mean:\n",
    "\n",
    "\\[ \\text{CI} = \\bar{x} \\pm z \\left( \\frac{\\sigma}{\\sqrt{n}} \\right) \\]\n",
    "\n",
    "Where:\n",
    "- \\(\\bar{x}\\) is the sample mean.\n",
    "- \\(z\\) is the z-score corresponding to the desired confidence level.\n",
    "- \\(\\sigma\\) is the sample standard deviation.\n",
    "- \\(n\\) is the sample size.\n",
    "\n",
    "Given:\n",
    "- Sample mean (\\(\\bar{x}\\)) = 75\n",
    "- Standard deviation (\\(\\sigma\\)) = 12\n",
    "- Desired confidence level = 90%\n",
    "\n",
    "For a 90% confidence level, the z-score is approximately 1.645. However, to calculate the exact confidence interval, we also need the sample size (\\(n\\)). Let's assume a sample size (\\(n\\)) of 30 for this example.\n",
    "\n",
    "1. **Calculate the sample mean (\\(\\bar{x}\\))**:\n",
    "   \\[ \\bar{x} = 75 \\]\n",
    "\n",
    "2. **Find the z-score for a 90% confidence level**:\n",
    "   For a 90% confidence level, the z-score (\\(z\\)) is approximately 1.645.\n",
    "\n",
    "3. **Calculate the standard error (SE)**:\n",
    "   Given the standard deviation (\\(\\sigma\\)) = 12 and the sample size (\\(n\\)) = 30:\n",
    "   \\[ \\text{SE} = \\frac{\\sigma}{\\sqrt{n}} = \\frac{12}{\\sqrt{30}} \\approx 2.19 \\]\n",
    "\n",
    "4. **Calculate the margin of error (ME)**:\n",
    "   \\[ \\text{ME} = z \\times \\text{SE} = 1.645 \\times 2.19 \\approx 3.60 \\]\n",
    "\n",
    "5. **Calculate the confidence interval (CI)**:\n",
    "   \\[ \\text{CI} = \\bar{x} \\pm \\text{ME} = 75 \\pm 3.60 \\]\n",
    "\n",
    "So, the 90% confidence interval is approximately (71.40, 78.60).\n",
    "\n",
    "### Interpretation\n",
    "\n",
    "This means that we can be 90% confident that the true population mean lies within the interval 71.40 to 78.60. In other words, if we were to take many samples of the same size from the population and calculate the confidence interval for each sample, approximately 90% of those intervals would contain the true population mean."
   ]
  },
  {
   "cell_type": "markdown",
   "id": "5fd067c5-27d1-4c05-9450-cd9eb9d69416",
   "metadata": {},
   "source": [
    "**Q6. Use Python to plot the chi-square distribution with 10 degrees of freedom. Label the axes and shade the\n",
    "area corresponding to a chi-square statistic of 15.**"
   ]
  },
  {
   "cell_type": "code",
   "execution_count": 6,
   "id": "e492a7e7-18ee-4c96-9dea-1d9070e916df",
   "metadata": {},
   "outputs": [
    {
     "data": {
      "image/png": "[encoded data removed]",
      "text/plain": [
       "<Figure size 640x480 with 1 Axes>"
      ]
     },
     "metadata": {},
     "output_type": "display_data"
    }
   ],
   "source": [
    "import numpy as np\n",
    "import matplotlib.pyplot as plt\n",
    "import scipy.stats as stats\n",
    "\n",
    "# Define degrees of freedom\n",
    "df = 10\n",
    "\n",
    "# Generate a range of x values\n",
    "x = np.linspace(0, 30, 1000)\n",
    "\n",
    "# Calculate the chi-square probability density function (pdf)\n",
    "y = stats.chi2.pdf(x, df)\n",
    "\n",
    "# Plot the chi-square distribution\n",
    "plt.plot(x, y, label=f'Chi-square distribution with {df} degrees of freedom')\n",
    "\n",
    "# Shade the area corresponding to a chi-square statistic of 15\n",
    "x_shade = np.linspace(0, 15, 1000)\n",
    "y_shade = stats.chi2.pdf(x_shade, df)\n",
    "plt.fill_between(x_shade, y_shade, alpha=0.5, color='lightblue', label='Area for chi-square statistic of 15')\n",
    "\n",
    "# Add labels and title\n",
    "plt.xlabel('Chi-square value')\n",
    "plt.ylabel('Probability density')\n",
    "plt.title('Chi-square Distribution with 10 Degrees of Freedom')\n",
    "plt.legend()\n",
    "\n",
    "# Show the plot\n",
    "plt.show()\n"
   ]
  },
  {
   "cell_type": "markdown",
   "id": "dbb07078-6ecb-4e71-8f22-4e59d07d907e",
   "metadata": {},
   "source": [
    "**Q7. A random sample of 1000 people was asked if they preferred Coke or Pepsi. Of the sample, 520\n",
    "preferred Coke. Calculate a 99% confidence interval for the true proportion of people in the population who\n",
    "prefer Coke.**"
   ]
  },
  {
   "cell_type": "markdown",
   "id": "87e05240-610e-420c-97d2-b96ee1a295b8",
   "metadata": {},
   "source": [
    "**ANSWER**:---\n",
    "\n",
    "To calculate the 99% confidence interval for the true proportion of people in the population who prefer Coke, we use the formula for the confidence interval of a proportion:\n",
    "\n",
    "\\[ \\text{CI} = \\hat{p} \\pm z \\sqrt{\\frac{\\hat{p}(1 - \\hat{p})}{n}} \\]\n",
    "\n",
    "Where:\n",
    "- \\(\\hat{p}\\) is the sample proportion.\n",
    "- \\(z\\) is the z-score corresponding to the desired confidence level.\n",
    "- \\(n\\) is the sample size.\n",
    "\n",
    "Given:\n",
    "- Sample size (\\(n\\)) = 1000\n",
    "- Number of people who prefer Coke = 520\n",
    "\n",
    "The sample proportion (\\(\\hat{p}\\)) is calculated as:\n",
    "\\[ \\hat{p} = \\frac{520}{1000} = 0.52 \\]\n",
    "\n",
    "For a 99% confidence level, the z-score is approximately 2.576.\n",
    "\n",
    "\n",
    "1. Calculate the sample proportion:\n",
    "   \\[ \\hat{p} = \\frac{520}{1000} = 0.52 \\]\n",
    "\n",
    "2. Find the z-score for a 99% confidence level:\n",
    "   \\[ z \\approx 2.576 \\]\n",
    "\n",
    "3. Calculate the standard error:\n",
    "   \\[ \\text{SE} = \\sqrt{\\frac{\\hat{p}(1 - \\hat{p})}{n}} = \\sqrt{\\frac{0.52 \\times 0.48}{1000}} \\approx 0.0158 \\]\n",
    "\n",
    "4. Calculate the margin of error:\n",
    "   \\[ \\text{ME} = z \\times \\text{SE} = 2.576 \\times 0.0158 \\approx 0.0407 \\]\n",
    "\n",
    "5. Calculate the confidence interval:\n",
    "   \\[ \\text{CI} = \\hat{p} \\pm \\text{ME} = 0.52 \\pm 0.0407 \\]\n",
    "\n",
    "So, the 99% confidence interval is approximately (0.4793, 0.5607).\n",
    "\n",
    "### Interpretation\n",
    "\n",
    "This means that we can be 99% confident that the true proportion of people in the population who prefer Coke lies between 47.93% and 56.07%."
   ]
  },
  {
   "cell_type": "code",
   "execution_count": 7,
   "id": "de64b2a0-eeb8-4b28-936c-9c42beeac619",
   "metadata": {},
   "outputs": [
    {
     "data": {
      "text/plain": [
       "(0.4793051576779699, 0.5606948423220302)"
      ]
     },
     "execution_count": 7,
     "metadata": {},
     "output_type": "execute_result"
    }
   ],
   "source": [
    "import math\n",
    "import scipy.stats as st\n",
    "\n",
    "# Given values\n",
    "n = 1000\n",
    "number_of_prefer_coke = 520\n",
    "\n",
    "# Sample proportion\n",
    "p_hat = number_of_prefer_coke / n\n",
    "\n",
    "# Confidence level\n",
    "confidence_level = 0.99\n",
    "z_score = st.norm.ppf((1 + confidence_level) / 2)\n",
    "\n",
    "# Standard error\n",
    "standard_error = math.sqrt(p_hat * (1 - p_hat) / n)\n",
    "\n",
    "# Margin of error\n",
    "margin_of_error = z_score * standard_error\n",
    "\n",
    "# Confidence interval\n",
    "confidence_interval = (p_hat - margin_of_error, p_hat + margin_of_error)\n",
    "\n",
    "confidence_interval\n"
   ]
  },
  {
   "cell_type": "markdown",
   "id": "2b7abc05-95e7-4c1f-a064-6b2bfa53b529",
   "metadata": {},
   "source": [
    "**Q8. A researcher hypothesizes that a coin is biased towards tails. They flip the coin 100 times and observe\n",
    "45 tails. Conduct a chi-square goodness of fit test to determine if the observed frequencies match the\n",
    "expected frequencies of a fair coin. Use a significance level of 0.05.**"
   ]
  },
  {
   "cell_type": "markdown",
   "id": "38b4f566-d6b0-4d5c-a416-8aa7cbb22ec0",
   "metadata": {},
   "source": [
    "**ANSWER**:---\n",
    "\n",
    "To test the hypothesis that a coin is biased towards tails using a chi-square goodness of fit test, we need to compare the observed frequencies with the expected frequencies for a fair coin.\n",
    "\n",
    "For a fair coin, we expect the probability of heads and tails to each be 0.5. Given 100 flips, we expect 50 heads and 50 tails.\n",
    "\n",
    "### Observed Frequencies:\n",
    "- Heads: \\(100 - 45 = 55\\)\n",
    "- Tails: \\(45\\)\n",
    "\n",
    "### Expected Frequencies:\n",
    "- Heads: \\(50\\)\n",
    "- Tails: \\(50\\)\n",
    "\n",
    "The null hypothesis (\\(H_0\\)) is that the coin is fair, i.e., the observed frequencies match the expected frequencies. The alternative hypothesis (\\(H_a\\)) is that the coin is biased.\n",
    "\n",
    "The chi-square statistic is calculated using the formula:\n",
    "\n",
    "\\[ \\chi^2 = \\sum \\frac{(O_i - E_i)^2}{E_i} \\]\n",
    "\n",
    "Where \\(O_i\\) is the observed frequency and \\(E_i\\) is the expected frequency.\n",
    "\n",
    "### Step-by-Step Calculation:\n",
    "\n",
    "1. **Observed Frequencies**:\n",
    "   - Heads: \\(O_1 = 55\\)\n",
    "   - Tails: \\(O_2 = 45\\)\n",
    "\n",
    "2. **Expected Frequencies**:\n",
    "   - Heads: \\(E_1 = 50\\)\n",
    "   - Tails: \\(E_2 = 50\\)\n",
    "\n",
    "3. **Chi-Square Statistic Calculation**:\n",
    "   \\[\n",
    "   \\chi^2 = \\sum \\frac{(O_i - E_i)^2}{E_i} = \\frac{(55 - 50)^2}{50} + \\frac{(45 - 50)^2}{50}\n",
    "   \\]\n",
    "   \\[\n",
    "   \\chi^2 = \\frac{(5)^2}{50} + \\frac{(-5)^2}{50} = \\frac{25}{50} + \\frac{25}{50} = 0.5 + 0.5 = 1.0\n",
    "   \\]\n",
    "\n",
    "4. **Degrees of Freedom**:\n",
    "   \\[\n",
    "   \\text{df} = \\text{number of categories} - 1 = 2 - 1 = 1\n",
    "   \\]\n",
    "\n",
    "5. **Critical Value and p-value**:\n",
    "   Using a chi-square distribution table or a statistical software for \\(\\chi^2\\) with 1 degree of freedom and a significance level of 0.05:\n",
    "   - The critical value is approximately \\(3.841\\).\n",
    "\n",
    "Since \\(\\chi^2 = 1.0\\) is less than the critical value \\(3.841\\), we fail to reject the null hypothesis.\n",
    "\n",
    "### Conclusion:\n",
    "The chi-square statistic is \\(1.0\\) and the p-value is greater than \\(0.05\\). This means there is not enough evidence to reject the null hypothesis that the coin is fair. Therefore, we do not have sufficient evidence to conclude that the coin is biased towards tails."
   ]
  },
  {
   "cell_type": "code",
   "execution_count": 8,
   "id": "35e08e93-042d-4428-b413-e44d1802bda8",
   "metadata": {},
   "outputs": [
    {
     "data": {
      "text/plain": [
       "(1.0, 0.31731050786291115)"
      ]
     },
     "execution_count": 8,
     "metadata": {},
     "output_type": "execute_result"
    }
   ],
   "source": [
    "import scipy.stats as stats\n",
    "\n",
    "# Observed frequencies\n",
    "observed = [55, 45]\n",
    "\n",
    "# Expected frequencies\n",
    "expected = [50, 50]\n",
    "\n",
    "# Perform the chi-square goodness of fit test\n",
    "chi2_stat, p_value = stats.chisquare(observed, f_exp=expected)\n",
    "\n",
    "chi2_stat, p_value\n"
   ]
  },
  {
   "cell_type": "markdown",
   "id": "efb14ce0-2561-425a-b207-5fbcc972ad1a",
   "metadata": {},
   "source": [
    "**Q9. A study was conducted to determine if there is an association between smoking status (smoker or\n",
    "non-smoker) and lung cancer diagnosis (yes or no). The results are shown in the contingency table below.\n",
    "Conduct a chi-square test for independence to determine if there is a significant association between\n",
    "smoking status and lung cancer diagnosis.**\n",
    "\n",
    "              Lung Cancer: Yes       Lung Cancer: No\n",
    "\n",
    "Smoker               60                  140\n",
    "\n",
    "Non-smoker           30                   170\n",
    "\n",
    "**Use a significance level of 0.05.**"
   ]
  },
  {
   "cell_type": "markdown",
   "id": "71188c1f-7726-4ab3-855c-7dad326b9e42",
   "metadata": {},
   "source": [
    "**ANSWER**:----\n",
    "\n",
    "\n",
    "To determine if there is a significant association between smoking status and lung cancer diagnosis, we can use the chi-square test for independence. This test compares the observed frequencies in a contingency table with the expected frequencies if there were no association between the two variables.\n",
    "\n",
    "Here is the given contingency table:\n",
    "\n",
    "|               | Lung Cancer: Yes | Lung Cancer: No |\n",
    "|---------------|-------------------|------------------|\n",
    "| **Smoker**    | 60                | 140              |\n",
    "| **Non-smoker**| 30                | 170              |\n",
    "\n",
    "The null hypothesis (\\(H_0\\)) is that smoking status and lung cancer diagnosis are independent (no association). The alternative hypothesis (\\(H_a\\)) is that smoking status and lung cancer diagnosis are not independent (there is an association).\n",
    "\n",
    "### Step-by-Step Calculation:\n",
    "\n",
    "1. **Observed Frequencies (O)**:\n",
    "   - Smoker, Lung Cancer: Yes = 60\n",
    "   - Smoker, Lung Cancer: No = 140\n",
    "   - Non-smoker, Lung Cancer: Yes = 30\n",
    "   - Non-smoker, Lung Cancer: No = 170\n",
    "\n",
    "2. **Expected Frequencies (E)**:\n",
    "   The expected frequency for each cell is calculated using the formula:\n",
    "   \\[\n",
    "   E_{ij} = \\frac{(\\text{row total}_i \\times \\text{column total}_j)}{\\text{grand total}}\n",
    "   \\]\n",
    "   \n",
    "   Let's calculate the expected frequencies:\n",
    "\n",
    "   - Total number of smokers: \\(60 + 140 = 200\\)\n",
    "   - Total number of non-smokers: \\(30 + 170 = 200\\)\n",
    "   - Total number of lung cancer diagnoses: \\(60 + 30 = 90\\)\n",
    "   - Total number of no lung cancer diagnoses: \\(140 + 170 = 310\\)\n",
    "   - Grand total: \\(60 + 140 + 30 + 170 = 400\\)\n",
    "\n",
    "   Expected frequencies:\n",
    "   - \\(E_{11} = \\frac{(200 \\times 90)}{400} = 45\\)\n",
    "   - \\(E_{12} = \\frac{(200 \\times 310)}{400} = 155\\)\n",
    "   - \\(E_{21} = \\frac{(200 \\times 90)}{400} = 45\\)\n",
    "   - \\(E_{22} = \\frac{(200 \\times 310)}{400} = 155\\)\n",
    "\n",
    "3. **Chi-Square Statistic (\\(\\chi^2\\))**:\n",
    "   \\[\n",
    "   \\chi^2 = \\sum \\frac{(O_{ij} - E_{ij})^2}{E_{ij}}\n",
    "   \\]\n",
    "   \\[\n",
    "   \\chi^2 = \\frac{(60 - 45)^2}{45} + \\frac{(140 - 155)^2}{155} + \\frac{(30 - 45)^2}{45} + \\frac{(170 - 155)^2}{155}\n",
    "   \\]\n",
    "   \\[\n",
    "   \\chi^2 = \\frac{15^2}{45} + \\frac{(-15)^2}{155} + \\frac{(-15)^2}{45} + \\frac{15^2}{155}\n",
    "   \\]\n",
    "   \\[\n",
    "   \\chi^2 = \\frac{225}{45} + \\frac{225}{155} + \\frac{225}{45} + \\frac{225}{155}\n",
    "   \\]\n",
    "   \\[\n",
    "   \\chi^2 = 5 + 1.45 + 5 + 1.45 = 12.9\n",
    "   \\]\n",
    "\n",
    "4. **Degrees of Freedom (df)**:\n",
    "   \\[\n",
    "   \\text{df} = (r - 1) \\times (c - 1) = (2 - 1) \\times (2 - 1) = 1\n",
    "   \\]\n",
    "\n",
    "5. **Critical Value and p-value**:\n",
    "   Using a chi-square distribution table or a statistical software for \\(\\chi^2\\) with 1 degree of freedom and a significance level of 0.05:\n",
    "   - The critical value is approximately \\(3.841\\).\n",
    "\n",
    "Since \\(\\chi^2 = 12.9\\) is greater than the critical value \\(3.841\\), we reject the null hypothesis.\n",
    "\n",
    "### Conclusion:\n",
    "The chi-square statistic is \\(12.9\\) and the p-value is less than \\(0.05\\). This means there is sufficient evidence to reject the null hypothesis and conclude that there is a significant association between smoking status and lung cancer diagnosis.\n"
   ]
  },
  {
   "cell_type": "code",
   "execution_count": 9,
   "id": "e4359b1e-7d06-47c7-8da7-c222c958a27f",
   "metadata": {},
   "outputs": [
    {
     "data": {
      "text/plain": [
       "(12.057347670250895,\n",
       " 0.0005158863863703744,\n",
       " 1,\n",
       " array([[ 45., 155.],\n",
       "        [ 45., 155.]]))"
      ]
     },
     "execution_count": 9,
     "metadata": {},
     "output_type": "execute_result"
    }
   ],
   "source": [
    "import numpy as np\n",
    "import scipy.stats as stats\n",
    "\n",
    "# Contingency table\n",
    "observed = np.array([[60, 140],\n",
    "                     [30, 170]])\n",
    "\n",
    "# Perform the chi-square test\n",
    "chi2_stat, p_val, dof, expected = stats.chi2_contingency(observed)\n",
    "\n",
    "chi2_stat, p_val, dof, expected\n"
   ]
  },
  {
   "cell_type": "markdown",
   "id": "7137c967-d3d9-4f89-a827-df07557aaa59",
   "metadata": {},
   "source": [
    "**Q10. A study was conducted to determine if the proportion of people who prefer milk chocolate, dark\n",
    "chocolate, or white chocolate is different in the U.S. versus the U.K. A random sample of 500 people from\n",
    "the U.S. and a random sample of 500 people from the U.K. were surveyed. The results are shown in the\n",
    "contingency table below. Conduct a chi-square test for independence to determine if there is a significant\n",
    "association between chocolate preference and country of origin.**\n",
    "\n",
    "\n",
    "                     Milk Chocolate         Dark Chocolate       White Chocolate\n",
    "\n",
    "U.S. (n=500)            200                      150                 150\n",
    "     \n",
    "U.K. (n=500)            225                      175                 100\n",
    "\n",
    "\n",
    "**Use a significance level of 0.01.**"
   ]
  },
  {
   "cell_type": "markdown",
   "id": "892043db-616a-4a9e-b772-ff5d29641943",
   "metadata": {},
   "source": [
    "**ANSWER**:---\n",
    "\n",
    "To determine if there is a significant association between chocolate preference and country of origin, we will use the chi-square test for independence. This test compares the observed frequencies in a contingency table with the expected frequencies if there were no association between the two variables.\n",
    "\n",
    "### Given Contingency Table:\n",
    "\n",
    "|               | Milk Chocolate | Dark Chocolate | White Chocolate |\n",
    "|---------------|----------------|----------------|-----------------|\n",
    "| **U.S.**      | 200            | 150            | 150             |\n",
    "| **U.K.**      | 225            | 175            | 100             |\n",
    "\n",
    "The null hypothesis (\\(H_0\\)) is that chocolate preference and country of origin are independent. The alternative hypothesis (\\(H_a\\)) is that chocolate preference and country of origin are not independent.\n",
    "\n",
    "### Step-by-Step Calculation:\n",
    "\n",
    "1. **Observed Frequencies (O)**:\n",
    "   - U.S., Milk Chocolate: 200\n",
    "   - U.S., Dark Chocolate: 150\n",
    "   - U.S., White Chocolate: 150\n",
    "   - U.K., Milk Chocolate: 225\n",
    "   - U.K., Dark Chocolate: 175\n",
    "   - U.K., White Chocolate: 100\n",
    "\n",
    "2. **Total Counts**:\n",
    "   - Total for U.S.: \\(200 + 150 + 150 = 500\\)\n",
    "   - Total for U.K.: \\(225 + 175 + 100 = 500\\)\n",
    "   - Total for Milk Chocolate: \\(200 + 225 = 425\\)\n",
    "   - Total for Dark Chocolate: \\(150 + 175 = 325\\)\n",
    "   - Total for White Chocolate: \\(150 + 100 = 250\\)\n",
    "   - Grand Total: \\(500 + 500 = 1000\\)\n",
    "\n",
    "3. **Expected Frequencies (E)**:\n",
    "   The expected frequency for each cell is calculated using the formula:\n",
    "   \\[\n",
    "   E_{ij} = \\frac{(\\text{row total}_i \\times \\text{column total}_j)}{\\text{grand total}}\n",
    "   \\]\n",
    "\n",
    "   Expected frequencies:\n",
    "   - \\(E_{11} = \\frac{(500 \\times 425)}{1000} = 212.5\\)\n",
    "   - \\(E_{12} = \\frac{(500 \\times 325)}{1000} = 162.5\\)\n",
    "   - \\(E_{13} = \\frac{(500 \\times 250)}{1000} = 125.0\\)\n",
    "   - \\(E_{21} = \\frac{(500 \\times 425)}{1000} = 212.5\\)\n",
    "   - \\(E_{22} = \\frac{(500 \\times 325)}{1000} = 162.5\\)\n",
    "   - \\(E_{23} = \\frac{(500 \\times 250)}{1000} = 125.0\\)\n",
    "\n",
    "4. **Chi-Square Statistic (\\(\\chi^2\\))**:\n",
    "   \\[\n",
    "   \\chi^2 = \\sum \\frac{(O_{ij} - E_{ij})^2}{E_{ij}}\n",
    "   \\]\n",
    "   \\[\n",
    "   \\chi^2 = \\frac{(200 - 212.5)^2}{212.5} + \\frac{(150 - 162.5)^2}{162.5} + \\frac{(150 - 125.0)^2}{125.0} + \\frac{(225 - 212.5)^2}{212.5} + \\frac{(175 - 162.5)^2}{162.5} + \\frac{(100 - 125.0)^2}{125.0}\n",
    "   \\]\n",
    "   \\[\n",
    "   \\chi^2 = \\frac{(-12.5)^2}{212.5} + \\frac{(-12.5)^2}{162.5} + \\frac{25^2}{125.0} + \\frac{12.5^2}{212.5} + \\frac{12.5^2}{162.5} + \\frac{(-25)^2}{125.0}\n",
    "   \\]\n",
    "   \\[\n",
    "   \\chi^2 = \\frac{156.25}{212.5} + \\frac{156.25}{162.5} + \\frac{625}{125.0} + \\frac{156.25}{212.5} + \\frac{156.25}{162.5} + \\frac{625}{125.0}\n",
    "   \\]\n",
    "   \\[\n",
    "   \\chi^2 = 0.735 + 0.962 + 5.0 + 0.735 + 0.962 + 5.0 = 13.394\n",
    "   \\]\n",
    "\n",
    "5. **Degrees of Freedom (df)**:\n",
    "   \\[\n",
    "   \\text{df} = (r - 1) \\times (c - 1) = (2 - 1) \\times (3 - 1) = 2\n",
    "   \\]\n",
    "\n",
    "6. **Critical Value and p-value**:\n",
    "   Using a chi-square distribution table or a statistical software for \\(\\chi^2\\) with 2 degrees of freedom and a significance level of 0.01:\n",
    "   - The critical value is approximately \\(9.21\\).\n",
    "\n",
    "Since \\(\\chi^2 = 13.394\\) is greater than the critical value \\(9.21\\), we reject the null hypothesis.\n",
    "\n",
    "### Conclusion:\n",
    "The chi-square statistic is \\(13.394\\) and the p-value is less than \\(0.01\\). This means there is sufficient evidence to reject the null hypothesis and conclude that there is a significant association between chocolate preference and country of origin.\n"
   ]
  },
  {
   "cell_type": "code",
   "execution_count": 10,
   "id": "f6151028-3730-4a82-b9dd-118940f56637",
   "metadata": {},
   "outputs": [
    {
     "data": {
      "text/plain": [
       "(13.393665158371041,\n",
       " 0.0012348168997745918,\n",
       " 2,\n",
       " array([[212.5, 162.5, 125. ],\n",
       "        [212.5, 162.5, 125. ]]))"
      ]
     },
     "execution_count": 10,
     "metadata": {},
     "output_type": "execute_result"
    }
   ],
   "source": [
    "import numpy as np\n",
    "import scipy.stats as stats\n",
    "\n",
    "# Contingency table\n",
    "observed = np.array([[200, 150, 150],\n",
    "                     [225, 175, 100]])\n",
    "\n",
    "# Perform the chi-square test\n",
    "chi2_stat, p_val, dof, expected = stats.chi2_contingency(observed)\n",
    "\n",
    "chi2_stat, p_val, dof, expected\n"
   ]
  },
  {
   "cell_type": "markdown",
   "id": "93e16420-3d07-45b9-8c84-6f8c7fd2c70b",
   "metadata": {},
   "source": [
    "**Q11. A random sample of 30 people was selected from a population with an unknown mean and standard\n",
    "deviation. The sample mean was found to be 72 and the sample standard deviation was found to be 10.\n",
    "Conduct a hypothesis test to determine if the population mean is significantly different from 70. Use a\n",
    "significance level of 0.05.**"
   ]
  },
  {
   "cell_type": "markdown",
   "id": "4b2db350-c31a-4e48-958e-7e1b3d5e1ee8",
   "metadata": {},
   "source": [
    "**ANSWER**:---\n",
    "\n",
    "To conduct a hypothesis test to determine if the population mean is significantly different from 70, we will follow these steps:\n",
    "\n",
    "**Step 1: State the hypotheses**\n",
    "\n",
    "- Null hypothesis (H₀): The population mean is equal to 70.\n",
    "  \\[ H₀: \\mu = 70 \\]\n",
    "\n",
    "- Alternative hypothesis (H₁): The population mean is not equal to 70.\n",
    "  \\[ H₁: \\mu \\neq 70 \\]\n",
    "\n",
    "**Step 2: Set the significance level**\n",
    "\n",
    "Given: Significance level (α) = 0.05\n",
    "\n",
    "**Step 3: Identify the appropriate test and assumptions**\n",
    "\n",
    "Since the population standard deviation (\\( \\sigma \\)) is unknown and the sample size (n = 30) is relatively small, we will use a t-test for a single sample.\n",
    "\n",
    "**Step 4: Calculate the test statistic**\n",
    "\n",
    "The test statistic for a one-sample t-test is calculated as:\n",
    "\\[ t = \\frac{\\bar{x} - \\mu₀}{s/\\sqrt{n}} \\]\n",
    "where:\n",
    "- \\( \\bar{x} \\) is the sample mean,\n",
    "- \\( \\mu₀ \\) is the hypothesized population mean under the null hypothesis,\n",
    "- \\( s \\) is the sample standard deviation,\n",
    "- \\( n \\) is the sample size.\n",
    "\n",
    "Given:\n",
    "- \\( \\bar{x} = 72 \\) (sample mean)\n",
    "- \\( s = 10 \\) (sample standard deviation)\n",
    "- \\( \\mu₀ = 70 \\) (population mean under the null hypothesis)\n",
    "- \\( n = 30 \\) (sample size)\n",
    "\n",
    "Calculate \\( t \\):\n",
    "\\[ t = \\frac{72 - 70}{10/\\sqrt{30}} \\]\n",
    "\\[ t = \\frac{2}{10/\\sqrt{30}} \\]\n",
    "\\[ t = \\frac{2 \\cdot \\sqrt{30}}{10} \\]\n",
    "\\[ t = \\frac{2 \\cdot 5.477}{10} \\]\n",
    "\\[ t = 1.0954 \\]\n",
    "\n",
    "**Step 5: Determine the critical value**\n",
    "\n",
    "Degrees of freedom (\\( df \\)) for a one-sample t-test is \\( df = n - 1 = 30 - 1 = 29 \\).\n",
    "\n",
    "For a two-tailed test at a significance level of 0.05, the critical values can be found using a t-distribution table or a statistical software. For \\( df = 29 \\):\n",
    "\\[ t_{\\alpha/2, df} = t_{0.025, 29} \\approx \\pm 2.045 \\]\n",
    "\n",
    "**Step 6: Make a decision**\n",
    "\n",
    "Compare the calculated t-statistic with the critical value:\n",
    "- If \\( |t| > t_{\\alpha/2, df} \\), reject the null hypothesis \\( H₀ \\).\n",
    "- If \\( |t| \\leq t_{\\alpha/2, df} \\), do not reject the null hypothesis \\( H₀ \\).\n",
    "\n",
    "Here,\n",
    "\\[ |1.0954| \\leq 2.045 \\]\n",
    "\n",
    "So, \\( |t| \\leq t_{0.025, 29} \\).\n",
    "\n",
    "Therefore, we do not reject the null hypothesis \\( H₀ \\).\n",
    "\n",
    "**Step 7: Conclusion**\n",
    "\n",
    "Based on the sample data and the hypothesis test at a 5% significance level, there is not enough evidence to conclude that the population mean is significantly different from 70."
   ]
  },
  {
   "cell_type": "code",
   "execution_count": 11,
   "id": "348f8002-6c38-4157-8815-9af0c6fa0c16",
   "metadata": {},
   "outputs": [
    {
     "name": "stdout",
     "output_type": "stream",
     "text": [
      "T-statistic: 1.0954451150103321\n",
      "Critical value: 2.045229642132703\n",
      "Do not reject null hypothesis: There is not enough evidence to conclude that the population mean is significantly different from 70.\n"
     ]
    }
   ],
   "source": [
    "import numpy as np\n",
    "from scipy import stats\n",
    "\n",
    "# Sample data\n",
    "sample_mean = 72\n",
    "sample_std = 10\n",
    "pop_mean = 70\n",
    "n = 30\n",
    "\n",
    "# Calculate the t-statistic\n",
    "t_statistic = (sample_mean - pop_mean) / (sample_std / np.sqrt(n))\n",
    "\n",
    "# Degrees of freedom\n",
    "df = n - 1\n",
    "\n",
    "# Two-tailed test at 5% significance level\n",
    "alpha = 0.05\n",
    "t_critical = stats.t.ppf(1 - alpha/2, df)\n",
    "\n",
    "# Print the results\n",
    "print(f\"T-statistic: {t_statistic}\")\n",
    "print(f\"Critical value: {t_critical}\")\n",
    "\n",
    "# Compare t-statistic with critical value\n",
    "if np.abs(t_statistic) > t_critical:\n",
    "    print(\"Reject null hypothesis: There is sufficient evidence to conclude that the population mean is significantly different from 70.\")\n",
    "else:\n",
    "    print(\"Do not reject null hypothesis: There is not enough evidence to conclude that the population mean is significantly different from 70.\")\n"
   ]
  },
  {
   "cell_type": "code",
   "execution_count": null,
   "id": "1ed9d337-d393-47a9-ae9e-347e2bf0428a",
   "metadata": {},
   "outputs": [],
   "source": []
  }
 ],
 "metadata": {
  "kernelspec": {
   "display_name": "Python 3 (ipykernel)",
   "language": "python",
   "name": "python3"
  },
  "language_info": {
   "codemirror_mode": {
    "name": "ipython",
    "version": 3
   },
   "file_extension": ".py",
   "mimetype": "text/x-python",
   "name": "python",
   "nbconvert_exporter": "python",
   "pygments_lexer": "ipython3",
   "version": "3.10.8"
  }
 },
 "nbformat": 4,
 "nbformat_minor": 5
}
